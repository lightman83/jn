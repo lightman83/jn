{
 "cells": [
  {
   "cell_type": "markdown",
   "metadata": {},
   "source": [
    "**Fuzzing** or **Fuzz Testing**: is an automated software testing technique that involves providing invalid, unexpected, or random data as inputs to a computer program. \n",
    "\n",
    "**Monkey Testing**: Execution of random inputs. Using the program the way a monkey would. \n",
    "\n",
    "**Proxy**"
   ]
  }
 ],
 "metadata": {
  "kernelspec": {
   "display_name": "Python 3",
   "language": "python",
   "name": "python3"
  },
  "language_info": {
   "codemirror_mode": {
    "name": "ipython",
    "version": 3
   },
   "file_extension": ".py",
   "mimetype": "text/x-python",
   "name": "python",
   "nbconvert_exporter": "python",
   "pygments_lexer": "ipython3",
   "version": "3.7.2"
  }
 },
 "nbformat": 4,
 "nbformat_minor": 2
}
